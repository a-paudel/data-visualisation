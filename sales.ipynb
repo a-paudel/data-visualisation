{
 "cells": [
  {
   "cell_type": "code",
   "execution_count": null,
   "metadata": {},
   "outputs": [],
   "source": [
    "import pandas as pd\n",
    "import plotly.express as px\n",
    "import panel as pn\n",
    "import ipywidgets as widgets\n",
    "from datetime import datetime\n",
    "import numpy as np\n",
    "pn.extension(\"plotly\", sizing_mode=\"stretch_width\",)"
   ]
  },
  {
   "cell_type": "code",
   "execution_count": null,
   "metadata": {},
   "outputs": [],
   "source": [
    "df = pd.read_csv(\"data/sales.csv\", dtype={\"CustomerNo\": \"str\"})\n",
    "df[\"Date\"] = pd.to_datetime(df[\"Date\"], format=\"%m/%d/%Y\")\n",
    "# df[\"Date\"] = df[\"Date\"].apply(lambda x: datetime.strptime(x, \"%m/%d/%Y\"))\n",
    "df[\"Sales\"] = df[\"Price\"] * df[\"Quantity\"]\n",
    "df.sample(10)"
   ]
  },
  {
   "cell_type": "code",
   "execution_count": null,
   "metadata": {},
   "outputs": [],
   "source": [
    "def kpi():\n",
    "    sum_sales = df[\"Sales\"].sum()\n",
    "    avg_sales = df[\"Sales\"].mean()\n",
    "    sum_num_items = df[\"Quantity\"].sum()\n",
    "\n",
    "    return pn.Row(\n",
    "        pn.Column(\n",
    "            pn.pane.Markdown(f\"## {sum_sales}\"),\n",
    "            pn.pane.Markdown(\"Total Sales\"),\n",
    "        ),\n",
    "        pn.Column(\n",
    "            pn.pane.Markdown(f\"## {avg_sales}\"),\n",
    "            pn.pane.Markdown(\"Average amount per transaction\"),\n",
    "        ),\n",
    "        pn.Column(\n",
    "            pn.pane.Markdown(f\"## {sum_num_items}\"),\n",
    "            pn.pane.Markdown(\"Total products sold\"),\n",
    "        ),\n",
    "    )\n",
    "\n",
    "\n",
    "kpi()"
   ]
  },
  {
   "cell_type": "code",
   "execution_count": null,
   "metadata": {},
   "outputs": [],
   "source": [
    "def sales_by_time_line():\n",
    "    df2 = df[[\"Date\", \"Sales\"]].copy()\n",
    "    df2 = df2.groupby(\"Date\").sum().reset_index()\n",
    "    fig = px.line(\n",
    "        df2,\n",
    "        x=\"Date\",\n",
    "        y=\"Sales\",\n",
    "        # width=1600,\n",
    "    )\n",
    "    fig.update_layout(hovermode=\"x unified\")\n",
    "    return fig\n",
    "\n",
    "\n",
    "pn.Column(\n",
    "    # pn.pane.Markdown(\"##Sales over time\"),\n",
    "    \"##Sales over time\",\n",
    "    sales_by_time_line(),\n",
    ")"
   ]
  },
  {
   "cell_type": "code",
   "execution_count": null,
   "metadata": {},
   "outputs": [],
   "source": [
    "# from IPython.core.display import DisplayObject\n",
    "date_slider = widgets.SelectionSlider(\n",
    "    description=\"Date\",\n",
    "    options=[\n",
    "        (pd.to_datetime(str(date)).strftime(\"%d %B %Y\"), date)\n",
    "        for date in df[\"Date\"].sort_values().unique()\n",
    "    ],\n",
    "    layout={\"width\": \"auto\"},\n",
    "\n",
    ")\n",
    "# @widgets.interact(date=date_slider)\n",
    "def country_sales_map():\n",
    "    def create_graph(date):\n",
    "        parsed_date = pd.Timestamp(date)\n",
    "        df2 = df[[\"Country\", \"Sales\", \"Date\"]].copy()\n",
    "        df2 = df2.query(\"Date == @date\")\n",
    "        df2 = df2.groupby([\"Country\"]).sum().reset_index()\n",
    "        fig = px.choropleth(\n",
    "            df2,\n",
    "            color=\"Sales\",\n",
    "            locations=\"Country\",\n",
    "            locationmode=\"country names\",\n",
    "            height=600,\n",
    "        )\n",
    "        return fig\n",
    "    # date_slider = pn.widgets.DiscreteSlider(name=\"Date\", options = {pd.to_datetime(number):number for number in df[\"Date\"].sort_values().unique().tolist()})\n",
    "    date_slider = pn.widgets.DateSlider(name=\"Date\", start=df[\"Date\"].min().date(), end=df[\"Date\"].max().date(), value=df[\"Date\"].min().date())\n",
    "\n",
    "    return pn.Column(\n",
    "        \"##Sales by country for given year\",\n",
    "        date_slider,\n",
    "        pn.bind(create_graph, date_slider)\n",
    "    )\n",
    "\n",
    "country_sales_map()"
   ]
  },
  {
   "cell_type": "code",
   "execution_count": null,
   "metadata": {},
   "outputs": [],
   "source": [
    "\n",
    "def customer_by_sales():\n",
    "    def create_graph(limit:int, ascending:bool):\n",
    "        df2 = df[[\"CustomerNo\", \"Sales\"]].copy().groupby(\"CustomerNo\").sum().reset_index()\n",
    "        df2 = df2.sort_values(\"Sales\", ascending=ascending).head(limit)\n",
    "        fig = px.bar(df2, x=\"CustomerNo\", y=\"Sales\")\n",
    "        return fig\n",
    "    limit_customer = pn.widgets.IntSlider(name=\"Limit\", value=10, start=5, end=50)\n",
    "    ascending_customer = pn.widgets.Checkbox(name=\"Ascending\", value=False)\n",
    "    return pn.Column(\n",
    "        \"##Customer by sales\",\n",
    "        limit_customer,\n",
    "        ascending_customer,\n",
    "        pn.bind(create_graph, limit_customer, ascending_customer)\n",
    "    )"
   ]
  },
  {
   "cell_type": "code",
   "execution_count": null,
   "metadata": {},
   "outputs": [],
   "source": [
    "# limit_product = widgets.IntSlider(value=10, min=5, max=50, layout={\"width\":\"auto\"})\n",
    "# ascending_product = widgets.Checkbox(value=False)\n",
    "\n",
    "\n",
    "def product_by_sales():\n",
    "    def create_graph(limit:int, ascending:bool):\n",
    "        df2 = df[[\"ProductName\", \"Sales\"]].copy().groupby(\"ProductName\").sum().reset_index()\n",
    "        df2 = df2.sort_values(\"Sales\", ascending=ascending).head(limit)\n",
    "        fig = px.bar(df2, x=\"ProductName\", y=\"Sales\")\n",
    "        return fig\n",
    "\n",
    "\n",
    "    limit_product = pn.widgets.IntSlider(name=\"Limit\", value=10, start=5, end=50)\n",
    "    ascending_product = pn.widgets.Checkbox(name=\"Ascending\", value=False)\n",
    "    return pn.Column(\n",
    "        \"##Product by sales\",\n",
    "        limit_product,\n",
    "        ascending_product,\n",
    "    pn.bind(create_graph, limit=limit_product, ascending=ascending_product)\n",
    "    )"
   ]
  },
  {
   "cell_type": "code",
   "execution_count": null,
   "metadata": {},
   "outputs": [],
   "source": [
    "pn.Row(\n",
    "    customer_by_sales(),\n",
    "    product_by_sales(),\n",
    ")"
   ]
  }
 ],
 "metadata": {
  "kernelspec": {
   "display_name": "Python 3.10.4 ('data-visualisation--qLfHTq5-py3.10')",
   "language": "python",
   "name": "python3"
  },
  "language_info": {
   "codemirror_mode": {
    "name": "ipython",
    "version": 3
   },
   "file_extension": ".py",
   "mimetype": "text/x-python",
   "name": "python",
   "nbconvert_exporter": "python",
   "pygments_lexer": "ipython3",
   "version": "3.10.4"
  },
  "orig_nbformat": 4,
  "vscode": {
   "interpreter": {
    "hash": "4a6d63f6c0f8ccf8697a815980e76bb2e8c35664dab80af730573acbb6ccb913"
   }
  }
 },
 "nbformat": 4,
 "nbformat_minor": 2
}
